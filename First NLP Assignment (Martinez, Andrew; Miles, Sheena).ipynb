{
 "cells": [
  {
   "cell_type": "code",
   "execution_count": 1,
   "metadata": {},
   "outputs": [
    {
     "data": {
      "text/html": [
       "<div>\n",
       "<style scoped>\n",
       "    .dataframe tbody tr th:only-of-type {\n",
       "        vertical-align: middle;\n",
       "    }\n",
       "\n",
       "    .dataframe tbody tr th {\n",
       "        vertical-align: top;\n",
       "    }\n",
       "\n",
       "    .dataframe thead th {\n",
       "        text-align: right;\n",
       "    }\n",
       "</style>\n",
       "<table border=\"1\" class=\"dataframe\">\n",
       "  <thead>\n",
       "    <tr style=\"text-align: right;\">\n",
       "      <th></th>\n",
       "      <th>ID</th>\n",
       "      <th>title</th>\n",
       "      <th>text</th>\n",
       "      <th>label</th>\n",
       "      <th>X1</th>\n",
       "      <th>X2</th>\n",
       "    </tr>\n",
       "  </thead>\n",
       "  <tbody>\n",
       "    <tr>\n",
       "      <th>0</th>\n",
       "      <td>8476</td>\n",
       "      <td>You Can Smell Hillary’s Fear</td>\n",
       "      <td>Daniel Greenfield, a Shillman Journalism Fello...</td>\n",
       "      <td>FAKE</td>\n",
       "      <td>NaN</td>\n",
       "      <td>NaN</td>\n",
       "    </tr>\n",
       "    <tr>\n",
       "      <th>1</th>\n",
       "      <td>10294</td>\n",
       "      <td>Watch The Exact Moment Paul Ryan Committed Pol...</td>\n",
       "      <td>Google Pinterest Digg Linkedin Reddit Stumbleu...</td>\n",
       "      <td>FAKE</td>\n",
       "      <td>NaN</td>\n",
       "      <td>NaN</td>\n",
       "    </tr>\n",
       "    <tr>\n",
       "      <th>2</th>\n",
       "      <td>3608</td>\n",
       "      <td>Kerry to go to Paris in gesture of sympathy</td>\n",
       "      <td>U.S. Secretary of State John F. Kerry said Mon...</td>\n",
       "      <td>REAL</td>\n",
       "      <td>NaN</td>\n",
       "      <td>NaN</td>\n",
       "    </tr>\n",
       "    <tr>\n",
       "      <th>3</th>\n",
       "      <td>10142</td>\n",
       "      <td>Bernie supporters on Twitter erupt in anger ag...</td>\n",
       "      <td>— Kaydee King (@KaydeeKing) November 9, 2016 T...</td>\n",
       "      <td>FAKE</td>\n",
       "      <td>NaN</td>\n",
       "      <td>NaN</td>\n",
       "    </tr>\n",
       "    <tr>\n",
       "      <th>4</th>\n",
       "      <td>875</td>\n",
       "      <td>The Battle of New York: Why This Primary Matters</td>\n",
       "      <td>It's primary day in New York and front-runners...</td>\n",
       "      <td>REAL</td>\n",
       "      <td>NaN</td>\n",
       "      <td>NaN</td>\n",
       "    </tr>\n",
       "  </tbody>\n",
       "</table>\n",
       "</div>"
      ],
      "text/plain": [
       "      ID                                              title  \\\n",
       "0   8476                       You Can Smell Hillary’s Fear   \n",
       "1  10294  Watch The Exact Moment Paul Ryan Committed Pol...   \n",
       "2   3608        Kerry to go to Paris in gesture of sympathy   \n",
       "3  10142  Bernie supporters on Twitter erupt in anger ag...   \n",
       "4    875   The Battle of New York: Why This Primary Matters   \n",
       "\n",
       "                                                text label   X1   X2  \n",
       "0  Daniel Greenfield, a Shillman Journalism Fello...  FAKE  NaN  NaN  \n",
       "1  Google Pinterest Digg Linkedin Reddit Stumbleu...  FAKE  NaN  NaN  \n",
       "2  U.S. Secretary of State John F. Kerry said Mon...  REAL  NaN  NaN  \n",
       "3  — Kaydee King (@KaydeeKing) November 9, 2016 T...  FAKE  NaN  NaN  \n",
       "4  It's primary day in New York and front-runners...  REAL  NaN  NaN  "
      ]
     },
     "execution_count": 1,
     "metadata": {},
     "output_type": "execute_result"
    }
   ],
   "source": [
    "import csv\n",
    "import numpy as np\n",
    "import pandas as pd\n",
    "import nltk\n",
    "import matplotlib.pyplot as plt\n",
    "import seaborn as sns\n",
    "from nltk import word_tokenize  \n",
    "from nltk.stem import WordNetLemmatizer\n",
    "from nltk.stem.snowball import SnowballStemmer\n",
    "from sklearn.svm import SVC\n",
    "from sklearn.feature_extraction.text import CountVectorizer, TfidfVectorizer, HashingVectorizer\n",
    "from sklearn.pipeline import Pipeline, make_pipeline\n",
    "from sklearn.model_selection import train_test_split, KFold, cross_val_score, \\\n",
    "    GridSearchCV, RandomizedSearchCV\n",
    "from sklearn.naive_bayes import MultinomialNB\n",
    "from sklearn.ensemble import GradientBoostingClassifier, RandomForestClassifier\n",
    "from sklearn.neighbors import KNeighborsClassifier\n",
    "from sklearn.linear_model import LogisticRegression, PassiveAggressiveClassifier\n",
    "from sklearn.metrics import confusion_matrix\n",
    "import warnings\n",
    "warnings.filterwarnings(\"ignore\", category=FutureWarning)\n",
    "warnings.filterwarnings(\"ignore\", category=DeprecationWarning)\n",
    "\n",
    "raw_train_df = pd.read_csv('Data/fake_or_real_news_training.csv')\n",
    "raw_test_df = pd.read_csv('Data/fake_or_real_news_test.csv')\n",
    "\n",
    "raw_train_df.head()\n"
   ]
  },
  {
   "cell_type": "markdown",
   "metadata": {},
   "source": [
    "# Data Exploration and Preparation\n",
    "\n",
    "This analysis ultimately seeks to develop a model that can accurately discern \"fake news\" from real articles with the data sets provided including columns for the article ID, title, text, and the label (in the case of the training data). This section will first explore the data and clean it as necessary."
   ]
  },
  {
   "cell_type": "code",
   "execution_count": 2,
   "metadata": {},
   "outputs": [
    {
     "data": {
      "text/plain": [
       "(3999, 6)"
      ]
     },
     "execution_count": 2,
     "metadata": {},
     "output_type": "execute_result"
    }
   ],
   "source": [
    "raw_train_df.shape"
   ]
  },
  {
   "cell_type": "code",
   "execution_count": 3,
   "metadata": {},
   "outputs": [
    {
     "data": {
      "text/plain": [
       "(2321, 3)"
      ]
     },
     "execution_count": 3,
     "metadata": {},
     "output_type": "execute_result"
    }
   ],
   "source": [
    "raw_test_df.shape"
   ]
  },
  {
   "cell_type": "code",
   "execution_count": 4,
   "metadata": {},
   "outputs": [
    {
     "data": {
      "text/html": [
       "<div>\n",
       "<style scoped>\n",
       "    .dataframe tbody tr th:only-of-type {\n",
       "        vertical-align: middle;\n",
       "    }\n",
       "\n",
       "    .dataframe tbody tr th {\n",
       "        vertical-align: top;\n",
       "    }\n",
       "\n",
       "    .dataframe thead th {\n",
       "        text-align: right;\n",
       "    }\n",
       "</style>\n",
       "<table border=\"1\" class=\"dataframe\">\n",
       "  <thead>\n",
       "    <tr style=\"text-align: right;\">\n",
       "      <th></th>\n",
       "      <th>ID</th>\n",
       "      <th>title</th>\n",
       "      <th>text</th>\n",
       "    </tr>\n",
       "  </thead>\n",
       "  <tbody>\n",
       "    <tr>\n",
       "      <th>0</th>\n",
       "      <td>10498</td>\n",
       "      <td>September New Homes Sales Rise——-Back To 1992 ...</td>\n",
       "      <td>September New Homes Sales Rise Back To 1992 Le...</td>\n",
       "    </tr>\n",
       "    <tr>\n",
       "      <th>1</th>\n",
       "      <td>2439</td>\n",
       "      <td>Why The Obamacare Doomsday Cult Can't Admit It...</td>\n",
       "      <td>But when Congress debated and passed the Patie...</td>\n",
       "    </tr>\n",
       "    <tr>\n",
       "      <th>2</th>\n",
       "      <td>864</td>\n",
       "      <td>Sanders, Cruz resist pressure after NY losses,...</td>\n",
       "      <td>The Bernie Sanders and Ted Cruz campaigns vowe...</td>\n",
       "    </tr>\n",
       "    <tr>\n",
       "      <th>3</th>\n",
       "      <td>4128</td>\n",
       "      <td>Surviving escaped prisoner likely fatigued and...</td>\n",
       "      <td>Police searching for the second of two escaped...</td>\n",
       "    </tr>\n",
       "    <tr>\n",
       "      <th>4</th>\n",
       "      <td>662</td>\n",
       "      <td>Clinton and Sanders neck and neck in Californi...</td>\n",
       "      <td>No matter who wins California's 475 delegates ...</td>\n",
       "    </tr>\n",
       "  </tbody>\n",
       "</table>\n",
       "</div>"
      ],
      "text/plain": [
       "      ID                                              title  \\\n",
       "0  10498  September New Homes Sales Rise——-Back To 1992 ...   \n",
       "1   2439  Why The Obamacare Doomsday Cult Can't Admit It...   \n",
       "2    864  Sanders, Cruz resist pressure after NY losses,...   \n",
       "3   4128  Surviving escaped prisoner likely fatigued and...   \n",
       "4    662  Clinton and Sanders neck and neck in Californi...   \n",
       "\n",
       "                                                text  \n",
       "0  September New Homes Sales Rise Back To 1992 Le...  \n",
       "1  But when Congress debated and passed the Patie...  \n",
       "2  The Bernie Sanders and Ted Cruz campaigns vowe...  \n",
       "3  Police searching for the second of two escaped...  \n",
       "4  No matter who wins California's 475 delegates ...  "
      ]
     },
     "execution_count": 4,
     "metadata": {},
     "output_type": "execute_result"
    }
   ],
   "source": [
    "raw_test_df.head()"
   ]
  },
  {
   "cell_type": "code",
   "execution_count": 5,
   "metadata": {
    "collapsed": true
   },
   "outputs": [],
   "source": [
    "prepared_train_df = raw_train_df.copy()\n",
    "prepared_test_df = raw_test_df.copy()"
   ]
  },
  {
   "cell_type": "markdown",
   "metadata": {},
   "source": [
    "From the below output, two main conclusions can be drawn:\n",
    "1. X1 and X2 are populated in a very small minority of cases\n",
    "2. There are rows that are improperly formatted as there should be only 2 unique values for the label\n",
    "\n",
    "\n",
    " As shown in the statistics below, X1 and X2 are populated in a very small number of cases- specifically 6 cases total\n",
    "\n",
    "There are a few rows that are improperly formatted as there should be only 2 unique values for the label- we are calculating the percentage of rows to understand how much this can affect the data, since we do not have enough information to determine WHY they are missing."
   ]
  },
  {
   "cell_type": "code",
   "execution_count": 6,
   "metadata": {},
   "outputs": [
    {
     "data": {
      "text/plain": [
       "ID       3999\n",
       "title    3968\n",
       "text     3839\n",
       "label      35\n",
       "X1          4\n",
       "X2          2\n",
       "dtype: int64"
      ]
     },
     "execution_count": 6,
     "metadata": {},
     "output_type": "execute_result"
    }
   ],
   "source": [
    "prepared_train_df.nunique()"
   ]
  },
  {
   "cell_type": "code",
   "execution_count": 7,
   "metadata": {},
   "outputs": [
    {
     "data": {
      "text/plain": [
       "0.991747936984246"
      ]
     },
     "execution_count": 7,
     "metadata": {},
     "output_type": "execute_result"
    }
   ],
   "source": [
    "#Calculate % of rows that have correct label values\n",
    "((prepared_train_df['label'].values == 'FAKE').sum() \n",
    " + (prepared_train_df['label'].values == 'REAL').sum())/len(prepared_train_df)\n"
   ]
  },
  {
   "cell_type": "markdown",
   "metadata": {},
   "source": [
    "Based on the above calculation, 99% of rows have the proper format for label and therefore we have decided to drop the rows without the proper format in the code below."
   ]
  },
  {
   "cell_type": "code",
   "execution_count": 8,
   "metadata": {},
   "outputs": [
    {
     "data": {
      "text/html": [
       "<div>\n",
       "<style scoped>\n",
       "    .dataframe tbody tr th:only-of-type {\n",
       "        vertical-align: middle;\n",
       "    }\n",
       "\n",
       "    .dataframe tbody tr th {\n",
       "        vertical-align: top;\n",
       "    }\n",
       "\n",
       "    .dataframe thead th {\n",
       "        text-align: right;\n",
       "    }\n",
       "</style>\n",
       "<table border=\"1\" class=\"dataframe\">\n",
       "  <thead>\n",
       "    <tr style=\"text-align: right;\">\n",
       "      <th></th>\n",
       "      <th>ID</th>\n",
       "      <th>title</th>\n",
       "      <th>text</th>\n",
       "      <th>label</th>\n",
       "      <th>X1</th>\n",
       "      <th>X2</th>\n",
       "    </tr>\n",
       "  </thead>\n",
       "  <tbody>\n",
       "    <tr>\n",
       "      <th>0</th>\n",
       "      <td>8476</td>\n",
       "      <td>You Can Smell Hillary’s Fear</td>\n",
       "      <td>Daniel Greenfield, a Shillman Journalism Fello...</td>\n",
       "      <td>FAKE</td>\n",
       "      <td>NaN</td>\n",
       "      <td>NaN</td>\n",
       "    </tr>\n",
       "    <tr>\n",
       "      <th>1</th>\n",
       "      <td>10294</td>\n",
       "      <td>Watch The Exact Moment Paul Ryan Committed Pol...</td>\n",
       "      <td>Google Pinterest Digg Linkedin Reddit Stumbleu...</td>\n",
       "      <td>FAKE</td>\n",
       "      <td>NaN</td>\n",
       "      <td>NaN</td>\n",
       "    </tr>\n",
       "    <tr>\n",
       "      <th>2</th>\n",
       "      <td>3608</td>\n",
       "      <td>Kerry to go to Paris in gesture of sympathy</td>\n",
       "      <td>U.S. Secretary of State John F. Kerry said Mon...</td>\n",
       "      <td>REAL</td>\n",
       "      <td>NaN</td>\n",
       "      <td>NaN</td>\n",
       "    </tr>\n",
       "    <tr>\n",
       "      <th>3</th>\n",
       "      <td>10142</td>\n",
       "      <td>Bernie supporters on Twitter erupt in anger ag...</td>\n",
       "      <td>— Kaydee King (@KaydeeKing) November 9, 2016 T...</td>\n",
       "      <td>FAKE</td>\n",
       "      <td>NaN</td>\n",
       "      <td>NaN</td>\n",
       "    </tr>\n",
       "    <tr>\n",
       "      <th>4</th>\n",
       "      <td>875</td>\n",
       "      <td>The Battle of New York: Why This Primary Matters</td>\n",
       "      <td>It's primary day in New York and front-runners...</td>\n",
       "      <td>REAL</td>\n",
       "      <td>NaN</td>\n",
       "      <td>NaN</td>\n",
       "    </tr>\n",
       "  </tbody>\n",
       "</table>\n",
       "</div>"
      ],
      "text/plain": [
       "      ID                                              title  \\\n",
       "0   8476                       You Can Smell Hillary’s Fear   \n",
       "1  10294  Watch The Exact Moment Paul Ryan Committed Pol...   \n",
       "2   3608        Kerry to go to Paris in gesture of sympathy   \n",
       "3  10142  Bernie supporters on Twitter erupt in anger ag...   \n",
       "4    875   The Battle of New York: Why This Primary Matters   \n",
       "\n",
       "                                                text label   X1   X2  \n",
       "0  Daniel Greenfield, a Shillman Journalism Fello...  FAKE  NaN  NaN  \n",
       "1  Google Pinterest Digg Linkedin Reddit Stumbleu...  FAKE  NaN  NaN  \n",
       "2  U.S. Secretary of State John F. Kerry said Mon...  REAL  NaN  NaN  \n",
       "3  — Kaydee King (@KaydeeKing) November 9, 2016 T...  FAKE  NaN  NaN  \n",
       "4  It's primary day in New York and front-runners...  REAL  NaN  NaN  "
      ]
     },
     "execution_count": 8,
     "metadata": {},
     "output_type": "execute_result"
    }
   ],
   "source": [
    "#Exclude rows that are in an improper format\n",
    "prepared_train_df = prepared_train_df[(prepared_train_df['label'] == 'FAKE') | (\n",
    "    prepared_train_df['label'] == 'REAL')]\n",
    "\n",
    "prepared_train_df.head()\n"
   ]
  },
  {
   "cell_type": "code",
   "execution_count": 9,
   "metadata": {},
   "outputs": [
    {
     "data": {
      "text/plain": [
       "(3966, 6)"
      ]
     },
     "execution_count": 9,
     "metadata": {},
     "output_type": "execute_result"
    }
   ],
   "source": [
    "prepared_train_df.shape"
   ]
  },
  {
   "cell_type": "markdown",
   "metadata": {},
   "source": [
    "As the two labels appear to be very well balanced, no special sampling techniques are necessary.\n",
    "\n",
    "Here we look at whether or not we have a balanced dataset to avoid any issues when running our model. You can see below that there is an almost even count of both real and fake news, and therefore no special sampling techniques, such as adding weights to either of the classes, need to be used."
   ]
  },
  {
   "cell_type": "code",
   "execution_count": 10,
   "metadata": {},
   "outputs": [
    {
     "data": {
      "image/png": "[encoded data removed]",
      "text/plain": [
       "<Figure size 720x360 with 1 Axes>"
      ]
     },
     "metadata": {
      "needs_background": "light"
     },
     "output_type": "display_data"
    }
   ],
   "source": [
    "plt.figure(figsize=(10,5)) \n",
    "sns.countplot(prepared_train_df['label'])\n",
    "plt.show()"
   ]
  },
  {
   "cell_type": "markdown",
   "metadata": {},
   "source": [
    "# Baseline Modeling"
   ]
  },
  {
   "cell_type": "markdown",
   "metadata": {},
   "source": [
    "The following helper functions were created for easier deployment and comparisons of different tokenization methodologies, models, and feature engineering that will be used later in this analysis. The use of pipelines allows for clean, efficient, reusable combinations of the different implementations that will be tested."
   ]
  },
  {
   "cell_type": "code",
   "execution_count": 11,
   "metadata": {
    "collapsed": true
   },
   "outputs": [],
   "source": [
    "def score_model(df, model, vectorizer, target_var, independent_var,\n",
    "                size=0.2, seed=12345, standalone=False, return_model=True):\n",
    "    \"\"\"\n",
    "        Splits inputed dataframe into a train/test splits based on user specifications. \n",
    "        These splits will be used to fit a pipeline based on the entered algorithm and\n",
    "        vectorizor. Returns the pipeline's score on the holdout, the holdout's labels,\n",
    "        the prediction and by default the pipeline.\n",
    "        --------\n",
    "    \"\"\"\n",
    "    df_new = df.copy()\n",
    "\n",
    "    X = df_new.loc[:, independent_var]\n",
    "    y = df_new.loc[:, target_var]\n",
    "    X_train, X_test, y_train, y_test = train_test_split(\n",
    "        X, y, test_size=size, random_state=seed)\n",
    "\n",
    "    # Toggle if pipeline or discrete model is passed\n",
    "    if(standalone):\n",
    "        pipeline = model.fit(X=X_train, y=y_train)\n",
    "    else:\n",
    "        pipeline = make_pipeline(vectorizer, model).fit(X=X_train, y=y_train)\n",
    "\n",
    "    pred = pipeline.predict(X_test)\n",
    "\n",
    "    # Toggle to include model in output\n",
    "    if(return_model):\n",
    "        return(pipeline.score(X_test, y_test), y_test, pred, pipeline)\n",
    "    else:\n",
    "        return(pipeline.score(X_test, y_test), y_test, pred)\n",
    "\n",
    "\n",
    "def cv_evaluate(df, model, vectorizer, target_var, independent_var, seed=1234, \n",
    "                cv=5, standalone=False, metric='accuracy'):\n",
    "    \"\"\"\n",
    "        Splits inputed dataframe into Kfold cross validation splits. \n",
    "        These splits will be used to fit a pipeline based on the entered \n",
    "        algorithm and vectorizor. Returns the pipeline's cross validation score.\n",
    "        --------\n",
    "    \"\"\"\n",
    "    df_new = df.copy()\n",
    "    kfolds = KFold(n_splits=cv, shuffle=True, random_state=seed)\n",
    "\n",
    "    X = df_new.loc[:, independent_var]\n",
    "    y = df_new.loc[:, target_var]\n",
    "\n",
    "    # Toggle if pipeline or discrete model is passed\n",
    "    if(standalone):\n",
    "        benchmark_model = make_pipeline(\n",
    "            vectorizer, model).fit(X=X, y=y.values.ravel())\n",
    "    else:\n",
    "        benchmark_model = make_pipeline(model).fit(X=X, y=y.values.ravel())\n",
    "\n",
    "    scores = cross_val_score(benchmark_model, X, y.values.ravel(),\n",
    "                             scoring=metric, cv=kfolds)\n",
    "    return scores[scores >= 0.0]\n",
    "\n",
    "\n",
    "def tune_model(df, model, vectorizer, param, target_var, independent_var,\n",
    "               seed=12345, cv=5, n_jobs=-1, gridSearch=False, verbose=True, metric='accuracy'):\n",
    "    \"\"\"\n",
    "        Splits inputed dataframe into a train/test splits based on user specifications. \n",
    "        These splits will be used to fit a pipeline based on the entered algorithm and\n",
    "        vectorizor. Returns an optimally tuned pipeline (both algorith and vectorizer) \n",
    "        based on inputed parameters.\n",
    "\n",
    "        NOTE: Randomized Search can be implemented to reduce computation time.\n",
    "        --------\n",
    "    \"\"\"\n",
    "    df_new = df.copy()\n",
    "    kfolds = KFold(n_splits=cv, shuffle=True, random_state=seed)\n",
    "\n",
    "    X = df_new.loc[:, independent_var]\n",
    "    y = df_new.loc[:, target_var]\n",
    "    pipeline = Pipeline([vectorizer, model])\n",
    "\n",
    "    # Toggle to run Grid Search or Randomized Search (to save on computation time)\n",
    "    if(gridSearch):\n",
    "        gsearch = GridSearchCV(estimator=pipeline, param_grid=param,\n",
    "                               scoring=metric, n_jobs=n_jobs, cv=kfolds, verbose=verbose)\n",
    "    else:\n",
    "        gsearch = RandomizedSearchCV(estimator=pipeline, param_distributions=param,\n",
    "                                     scoring=metric, n_jobs=n_jobs, cv=kfolds, verbose=verbose)\n",
    "\n",
    "    gsearch.fit(X, y)\n",
    "    tuned_model = gsearch.best_estimator_\n",
    "\n",
    "    if(verbose):\n",
    "        print('='*20)\n",
    "        print(\"best params: \" + str(gsearch.best_estimator_))\n",
    "        print(\"best params: \" + str(gsearch.best_params_))\n",
    "        print('best score:', gsearch.best_score_)\n",
    "        print('='*20)\n",
    "\n",
    "    return tuned_model\n",
    "\n",
    "\n",
    "def confusion_heat_map(test_set, prediction_set, class_names):\n",
    "    \"\"\"\n",
    "        Returns a confusion heatmap comparing predicted labels against\n",
    "        actual labels.\n",
    "        --------\n",
    "    \"\"\"\n",
    "    cm = confusion_matrix(test_set, prediction_set, class_names)\n",
    "    fig, ax = plt.subplots()\n",
    "\n",
    "    # create heatmap\n",
    "    g = sns.heatmap(cm, annot=True, cmap=\"YlGnBu\", fmt='g',\n",
    "                    xticklabels=True, yticklabels=True)\n",
    "    ax.xaxis.set_label_position(\"top\")\n",
    "    ax.set_xticklabels(class_names)\n",
    "    ax.set_yticklabels(class_names)\n",
    "    plt.title('Confusion matrix', y=1.1)\n",
    "    plt.tight_layout()\n",
    "    plt.ylabel('True label')\n",
    "    plt.xlabel('Predicted label')\n",
    "\n",
    "\n",
    "def run_full_iteration(df, model, vectorizer, target_var, independent_var, size=0.2,\n",
    "                       seed=12345, standalone=False, return_model=True, cv=5):\n",
    "    \"\"\"\n",
    "        Sequentially runs score_model, cv_evaluate, and confusion_heat_map.\n",
    "        --------\n",
    "    \"\"\"\n",
    "    # Returns score on holdout set\n",
    "    score, y_test, pred, model = score_model(\n",
    "        df, model, vectorizer, target_var, independent_var, size,\n",
    "        seed, standalone, return_model)\n",
    "    print(\"Accuracy: %0.3f\" % score)\n",
    "\n",
    "    # Returns cross-validated score\n",
    "    accuracy = cv_evaluate(df, model, vectorizer,\n",
    "                           target_var, independent_var, seed, cv)\n",
    "    print('Mean Accuracy after CV: {:.3f} +/- {:.03f}'.format(np.mean(accuracy), np.std(accuracy)))\n",
    "    print('Best Accuracy after CV: {:.3f}'.format(max(accuracy)))\n",
    "\n",
    "    confusion_heat_map(y_test, pred, ['FAKE', 'REAL'])\n",
    "\n",
    "\n",
    "def csv_conversion(df, y, id_field, old_target_name, filename, verbose=True):\n",
    "    \"\"\"\n",
    "        Returns a pandas dataframe with the id_field and predicted values. Saves\n",
    "        output as a CSV.\n",
    "        --------\n",
    "    \"\"\"\n",
    "    # Merge prediction with original data set to map with id\n",
    "    raw_output = df.join(y)\n",
    "    clean_output = raw_output.loc[:, [id_field, 0]]\n",
    "    clean_output.columns = [id_field, old_target_name]\n",
    "    clean_output.to_csv(filename, index=False)\n",
    "    \n",
    "    if(verbose):\n",
    "        print(clean_output.head())\n",
    "    return clean_output\n",
    "\n",
    "\n",
    "def custom_stemmer(articles):\n",
    "    \"\"\"\n",
    "        Returns stemmed text using the english implementations of the\n",
    "        Snowball stemmer.\n",
    "        --------\n",
    "    \"\"\"\n",
    "    stemmer = SnowballStemmer(\"english\")\n",
    "    analyzer = TfidfVectorizer(stop_words='english').build_analyzer()\n",
    "    return (stemmer.stem(w) for w in analyzer(articles))\n",
    "\n",
    "\n",
    "class LemmaTokenizer(object):\n",
    "    \"\"\"\n",
    "        Created Lemmatizer object that is pipeline compatible.\n",
    "        --------\n",
    "    \"\"\"\n",
    "    def __init__(self):\n",
    "        self.wnl = WordNetLemmatizer()\n",
    "\n",
    "    def __call__(self, articles):\n",
    "        return [self.wnl.lemmatize(t) for t in word_tokenize(articles)]\n"
   ]
  },
  {
   "cell_type": "markdown",
   "metadata": {},
   "source": [
    "## Count Vectorizer\n",
    "\n",
    "Here, we implement the count vectorizor function, or the Bag of Words approach, which creates a document term matrix, and then simply tokenizes a set of text and counts the number of times each token appears in the message. These counts are what populate the maxtrix. As can be seen from the below results, this simplistic methodology already yields decent results, with the Multinomial NB model performing the best out of the four."
   ]
  },
  {
   "cell_type": "code",
   "execution_count": 12,
   "metadata": {},
   "outputs": [
    {
     "name": "stdout",
     "output_type": "stream",
     "text": [
      "MNB: 0.881999 (0.009216)\n",
      "RFC: 0.828034 (0.013075)\n",
      "SVM: 0.858302 (0.015444)\n",
      "PAC: 0.887295 (0.011185)\n"
     ]
    }
   ],
   "source": [
    "# Set test set seed and target metric for the rest of the pipeline\n",
    "seed = 12345\n",
    "target_var = 'label'\n",
    "independent_var = 'text'\n",
    "\n",
    "models = []\n",
    "models.append(('MNB', MultinomialNB()))\n",
    "# models.append(('LR', LogisticRegression(solver='lbfgs', multi_class='auto'))) #Fails to converge\n",
    "# models.append(('KNN', KNeighborsClassifier())) #very poor performance\n",
    "models.append(('RFC', RandomForestClassifier(random_state = seed)))\n",
    "models.append(('SVM', SVC(kernel='linear')))\n",
    "models.append(('PAC', PassiveAggressiveClassifier(random_state=seed)))\n",
    "# models.append(('GB', GradientBoostingClassifier())) #takes too long\n",
    "\n",
    "vectorizer = CountVectorizer(stop_words='english')\n",
    "\n",
    "# evaluate each model in turn\n",
    "results = []\n",
    "names = []\n",
    "for name, model in models:\n",
    "    cv_results = cv_evaluate(prepared_train_df, model,\n",
    "                             vectorizer, target_var, \n",
    "                             independent_var, cv=4, standalone=True)\n",
    "    results.append(cv_results)\n",
    "    names.append(name)\n",
    "    msg = \"%s: %f (%f)\" % (name, cv_results.mean(), cv_results.std())\n",
    "    print(msg)\n"
   ]
  },
  {
   "cell_type": "markdown",
   "metadata": {},
   "source": [
    "## Hashing Vectorizer\n",
    "\n",
    "The hashing vectorizer is a more memory efficient tokenization/count implementation than the regular count vectorizer and the TDIF vectorizer. An improvement in score can be seen, however this is still a fairly simplistic implemntation.\n",
    "\n",
    "Our implementation of term frequency utilizes a hash table data structure. A raw feature is mapped into an index (term) by applying a hash function. Then term frequencies are calculated based on the mapped indices. This approach avoids the need to compute a global term-to-index map, which can be expensive for a large corpus, but it suffers from potential hash collisions, where different raw features may map to the same term after hashing. To reduce the chance of collision, we can increase the target feature dimension (i.e. the number of buckets of the hash table). "
   ]
  },
  {
   "cell_type": "code",
   "execution_count": 13,
   "metadata": {},
   "outputs": [
    {
     "name": "stdout",
     "output_type": "stream",
     "text": [
      "MNB: 0.787197 (0.019901)\n",
      "RFC: 0.791982 (0.005149)\n",
      "SVM: 0.919569 (0.005595)\n",
      "PAC: 0.918309 (0.006611)\n"
     ]
    }
   ],
   "source": [
    "vectorizer = HashingVectorizer(stop_words='english', non_negative=True)\n",
    "\n",
    "# evaluate each model in turn\n",
    "results = []\n",
    "names = []\n",
    "for name, model in models:\n",
    "    cv_results = cv_evaluate(prepared_train_df, model,\n",
    "                             vectorizer, target_var, \n",
    "                             independent_var, cv=4, standalone=True)\n",
    "    results.append(cv_results)\n",
    "    names.append(name)\n",
    "    msg = \"%s: %f (%f)\" % (name, cv_results.mean(), cv_results.std())\n",
    "    print(msg)"
   ]
  },
  {
   "cell_type": "markdown",
   "metadata": {},
   "source": [
    "## Tfid Vectorizer\n",
    "\n",
    "On the other hand, TfidfVectorizer does everything the count vectorizer does, but also transforms the counts into TF/IDF values. This is crucially different because instead of relying on a raw count, it counts the frequency of words within the document and assigns a weight, and does the same across all documents. Becuase these weights are then divided, the overall weight decreases significantly, if it is an extremely common word. This is helpful in the case of stop words (the, and, is, etc.). As seen in the results below, using this methodology, a material improvement in prediction accuracy is made accross all models."
   ]
  },
  {
   "cell_type": "code",
   "execution_count": 14,
   "metadata": {},
   "outputs": [
    {
     "name": "stdout",
     "output_type": "stream",
     "text": [
      "MNB: 0.815941 (0.014094)\n",
      "LR: 0.904436 (0.008532)\n",
      "RFC: 0.816182 (0.016463)\n",
      "SVM: 0.926122 (0.006668)\n",
      "PAC: 0.927887 (0.007047)\n"
     ]
    }
   ],
   "source": [
    "models = []\n",
    "models.append(('MNB', MultinomialNB()))\n",
    "models.append(('LR', LogisticRegression(solver='lbfgs', multi_class='auto')))\n",
    "# models.append(('KNN', KNeighborsClassifier())) #very poor performance\n",
    "models.append(('RFC', RandomForestClassifier(random_state=seed)))\n",
    "models.append(('SVM', SVC(kernel='linear')))\n",
    "models.append(('PAC', PassiveAggressiveClassifier(random_state=seed)))\n",
    "# models.append(('GB', GradientBoostingClassifier())) #takes too long\n",
    "\n",
    "vectorizer = TfidfVectorizer(stop_words='english')\n",
    "\n",
    "# evaluate each model in turn\n",
    "results = []\n",
    "names = []\n",
    "for name, model in models:\n",
    "    cv_results = cv_evaluate(prepared_train_df, model,\n",
    "                             vectorizer, target_var, \n",
    "                             independent_var, cv=4, standalone=True)\n",
    "    results.append(cv_results)\n",
    "    names.append(name)\n",
    "    msg = \"%s: %f (%f)\" % (name, cv_results.mean(), cv_results.std())\n",
    "    print(msg)\n"
   ]
  },
  {
   "cell_type": "markdown",
   "metadata": {},
   "source": [
    "## Full Analysis of Best Baseline Model\n",
    "\n",
    "Based on the above results, it is clear that the winning combination is the Passive Aggressive Classifier (PAC) algorithm using Tfid Vectorizor. Put very simply, it is an algorithm that is well suited for large datasets because it doesn't store the data (Lavrenko 2014 https://bit.ly/2VUcBpk), making it a strong candidate for this use case. It gets an example, learns from the example, and throws it away. The PAC is \"passive\" in the sense that while in training, if it correctly classifies a particular instance, it does nothing and \"aggressive\" as it will update with incorrect classifications. \n",
    "\n",
    "It can be seen below that the high accuracy holds even with cross validation."
   ]
  },
  {
   "cell_type": "code",
   "execution_count": 15,
   "metadata": {},
   "outputs": [
    {
     "name": "stdout",
     "output_type": "stream",
     "text": [
      "Accuracy: 0.912\n",
      "Mean Accuracy after CV: 0.928 +/- 0.011\n",
      "Best Accuracy after CV: 0.946\n"
     ]
    },
    {
     "data": {
      "image/png": "[encoded data removed]",
      "text/plain": [
       "<Figure size 432x288 with 2 Axes>"
      ]
     },
     "metadata": {
      "needs_background": "light"
     },
     "output_type": "display_data"
    }
   ],
   "source": [
    "model = PassiveAggressiveClassifier(random_state=seed)\n",
    "run_full_iteration(prepared_train_df, model, vectorizer, target_var, independent_var)\n"
   ]
  },
  {
   "cell_type": "markdown",
   "metadata": {},
   "source": [
    "# Feature Engineering"
   ]
  },
  {
   "cell_type": "markdown",
   "metadata": {},
   "source": [
    "## FE1: Combine Title and Text\n",
    "\n",
    "The first engineered feature that will be attempted is combining the article title and text in a single string as the previous baselines only included the text. A marked improvement can be seen on the holdout accuracy as well as the average cross validated score. Therefore, this feature will be included in the combined engineering model."
   ]
  },
  {
   "cell_type": "code",
   "execution_count": 16,
   "metadata": {},
   "outputs": [
    {
     "data": {
      "text/html": [
       "<div>\n",
       "<style scoped>\n",
       "    .dataframe tbody tr th:only-of-type {\n",
       "        vertical-align: middle;\n",
       "    }\n",
       "\n",
       "    .dataframe tbody tr th {\n",
       "        vertical-align: top;\n",
       "    }\n",
       "\n",
       "    .dataframe thead th {\n",
       "        text-align: right;\n",
       "    }\n",
       "</style>\n",
       "<table border=\"1\" class=\"dataframe\">\n",
       "  <thead>\n",
       "    <tr style=\"text-align: right;\">\n",
       "      <th></th>\n",
       "      <th>ID</th>\n",
       "      <th>title</th>\n",
       "      <th>text</th>\n",
       "      <th>label</th>\n",
       "      <th>X1</th>\n",
       "      <th>X2</th>\n",
       "      <th>combined</th>\n",
       "    </tr>\n",
       "  </thead>\n",
       "  <tbody>\n",
       "    <tr>\n",
       "      <th>0</th>\n",
       "      <td>8476</td>\n",
       "      <td>You Can Smell Hillary’s Fear</td>\n",
       "      <td>Daniel Greenfield, a Shillman Journalism Fello...</td>\n",
       "      <td>FAKE</td>\n",
       "      <td>NaN</td>\n",
       "      <td>NaN</td>\n",
       "      <td>You Can Smell Hillary’s FearDaniel Greenfield,...</td>\n",
       "    </tr>\n",
       "    <tr>\n",
       "      <th>1</th>\n",
       "      <td>10294</td>\n",
       "      <td>Watch The Exact Moment Paul Ryan Committed Pol...</td>\n",
       "      <td>Google Pinterest Digg Linkedin Reddit Stumbleu...</td>\n",
       "      <td>FAKE</td>\n",
       "      <td>NaN</td>\n",
       "      <td>NaN</td>\n",
       "      <td>Watch The Exact Moment Paul Ryan Committed Pol...</td>\n",
       "    </tr>\n",
       "    <tr>\n",
       "      <th>2</th>\n",
       "      <td>3608</td>\n",
       "      <td>Kerry to go to Paris in gesture of sympathy</td>\n",
       "      <td>U.S. Secretary of State John F. Kerry said Mon...</td>\n",
       "      <td>REAL</td>\n",
       "      <td>NaN</td>\n",
       "      <td>NaN</td>\n",
       "      <td>Kerry to go to Paris in gesture of sympathyU.S...</td>\n",
       "    </tr>\n",
       "    <tr>\n",
       "      <th>3</th>\n",
       "      <td>10142</td>\n",
       "      <td>Bernie supporters on Twitter erupt in anger ag...</td>\n",
       "      <td>— Kaydee King (@KaydeeKing) November 9, 2016 T...</td>\n",
       "      <td>FAKE</td>\n",
       "      <td>NaN</td>\n",
       "      <td>NaN</td>\n",
       "      <td>Bernie supporters on Twitter erupt in anger ag...</td>\n",
       "    </tr>\n",
       "    <tr>\n",
       "      <th>4</th>\n",
       "      <td>875</td>\n",
       "      <td>The Battle of New York: Why This Primary Matters</td>\n",
       "      <td>It's primary day in New York and front-runners...</td>\n",
       "      <td>REAL</td>\n",
       "      <td>NaN</td>\n",
       "      <td>NaN</td>\n",
       "      <td>The Battle of New York: Why This Primary Matte...</td>\n",
       "    </tr>\n",
       "  </tbody>\n",
       "</table>\n",
       "</div>"
      ],
      "text/plain": [
       "      ID                                              title  \\\n",
       "0   8476                       You Can Smell Hillary’s Fear   \n",
       "1  10294  Watch The Exact Moment Paul Ryan Committed Pol...   \n",
       "2   3608        Kerry to go to Paris in gesture of sympathy   \n",
       "3  10142  Bernie supporters on Twitter erupt in anger ag...   \n",
       "4    875   The Battle of New York: Why This Primary Matters   \n",
       "\n",
       "                                                text label   X1   X2  \\\n",
       "0  Daniel Greenfield, a Shillman Journalism Fello...  FAKE  NaN  NaN   \n",
       "1  Google Pinterest Digg Linkedin Reddit Stumbleu...  FAKE  NaN  NaN   \n",
       "2  U.S. Secretary of State John F. Kerry said Mon...  REAL  NaN  NaN   \n",
       "3  — Kaydee King (@KaydeeKing) November 9, 2016 T...  FAKE  NaN  NaN   \n",
       "4  It's primary day in New York and front-runners...  REAL  NaN  NaN   \n",
       "\n",
       "                                            combined  \n",
       "0  You Can Smell Hillary’s FearDaniel Greenfield,...  \n",
       "1  Watch The Exact Moment Paul Ryan Committed Pol...  \n",
       "2  Kerry to go to Paris in gesture of sympathyU.S...  \n",
       "3  Bernie supporters on Twitter erupt in anger ag...  \n",
       "4  The Battle of New York: Why This Primary Matte...  "
      ]
     },
     "execution_count": 16,
     "metadata": {},
     "output_type": "execute_result"
    }
   ],
   "source": [
    "fe1_train_df = prepared_train_df.copy()\n",
    "fe1_test_df = prepared_test_df.copy()\n",
    "\n",
    "fe1_train_df['combined'] = fe1_train_df['title'] + fe1_train_df['text']\n",
    "fe1_test_df['combined'] = fe1_test_df['title'] + fe1_test_df['text']\n",
    "fe1_train_df.head()"
   ]
  },
  {
   "cell_type": "code",
   "execution_count": 17,
   "metadata": {},
   "outputs": [
    {
     "name": "stdout",
     "output_type": "stream",
     "text": [
      "Accuracy: 0.918\n",
      "Mean Accuracy after CV: 0.929 +/- 0.011\n",
      "Best Accuracy after CV: 0.945\n"
     ]
    },
    {
     "data": {
      "image/png": "[encoded data removed]",
      "text/plain": [
       "<Figure size 432x288 with 2 Axes>"
      ]
     },
     "metadata": {
      "needs_background": "light"
     },
     "output_type": "display_data"
    }
   ],
   "source": [
    "independent_var = 'combined'\n",
    "run_full_iteration(fe1_train_df, model, vectorizer, target_var, independent_var)\n"
   ]
  },
  {
   "cell_type": "markdown",
   "metadata": {},
   "source": [
    "## FE2: Stemming\n",
    "\n",
    "The next feature will incorporate the English implementation of the Snowball stemmer. This essentially reduces words to their root without taking into account its context (e.g. \"running\" to \"run\", \"quickly\" to \"quick\", etc.) The process is easier and quicker to implement than Lemmatization (below), however it usually shows a decrease in accuracy over Lemmatization. After applied, this did slightly improve upon the holdout accuracy and the best cross validated accuracy, however it led to a greater decrease in the mean cross validated accuracy and therefore will not be included in the combined model."
   ]
  },
  {
   "cell_type": "code",
   "execution_count": 18,
   "metadata": {},
   "outputs": [
    {
     "name": "stdout",
     "output_type": "stream",
     "text": [
      "Accuracy: 0.914\n",
      "Mean Accuracy after CV: 0.925 +/- 0.011\n",
      "Best Accuracy after CV: 0.943\n"
     ]
    },
    {
     "data": {
      "image/png": "[encoded data removed]",
      "text/plain": [
       "<Figure size 432x288 with 2 Axes>"
      ]
     },
     "metadata": {
      "needs_background": "light"
     },
     "output_type": "display_data"
    }
   ],
   "source": [
    "independent_var = 'text'\n",
    "fe2_vectorizer = TfidfVectorizer(stop_words='english', analyzer=custom_stemmer)\n",
    "run_full_iteration(prepared_train_df, model, fe2_vectorizer, target_var, independent_var)\n"
   ]
  },
  {
   "cell_type": "markdown",
   "metadata": {},
   "source": [
    "## FE3: Lemmatization\n",
    "\n",
    "Lemmatization operates very similarly to stemming with the critical difference of taking into account the context of the word/multiple meanings (e.g \"better\" to \"good\"). Its utilization results in a substanial improvement in the holdout accuracy as well as the mean cross validated accuracy (though at the expense of computation time). With this in mind, it will be kept for the combined feature engineering model."
   ]
  },
  {
   "cell_type": "code",
   "execution_count": 19,
   "metadata": {},
   "outputs": [
    {
     "name": "stdout",
     "output_type": "stream",
     "text": [
      "Accuracy: 0.932\n",
      "Mean Accuracy after CV: 0.937 +/- 0.010\n",
      "Best Accuracy after CV: 0.943\n"
     ]
    },
    {
     "data": {
      "image/png": "[encoded data removed]",
      "text/plain": [
       "<Figure size 432x288 with 2 Axes>"
      ]
     },
     "metadata": {
      "needs_background": "light"
     },
     "output_type": "display_data"
    }
   ],
   "source": [
    "independent_var = 'text'\n",
    "fe3_vectorizer = TfidfVectorizer(tokenizer=LemmaTokenizer())\n",
    "run_full_iteration(prepared_train_df, model, fe3_vectorizer, target_var, independent_var)\n"
   ]
  },
  {
   "cell_type": "markdown",
   "metadata": {},
   "source": [
    "## Combining Feature Engineering\n",
    "\n",
    "Combining both the addition of the article title and lemmatization, the resulting model performance is superior to both the baseline and addition of the title alone. However, there is a decrease in accuracy against lemmatization with regards to the holdout accuracy (despite improvements in cross validation). Ultimately both engineered features will be kept as combined they result in an overall improved score, but also, and maybe more importantly, a decrease in standard deviation among cross validated scores hinting at possibly better generalization."
   ]
  },
  {
   "cell_type": "code",
   "execution_count": 20,
   "metadata": {},
   "outputs": [
    {
     "name": "stdout",
     "output_type": "stream",
     "text": [
      "Accuracy: 0.928\n",
      "Mean Accuracy after CV: 0.938 +/- 0.009\n",
      "Best Accuracy after CV: 0.946\n"
     ]
    },
    {
     "data": {
      "image/png": "[encoded data removed]",
      "text/plain": [
       "<Figure size 432x288 with 2 Axes>"
      ]
     },
     "metadata": {
      "needs_background": "light"
     },
     "output_type": "display_data"
    }
   ],
   "source": [
    "independent_var = 'combined'\n",
    "fe_vectorizer = TfidfVectorizer(tokenizer=LemmaTokenizer())\n",
    "run_full_iteration(fe1_train_df, model, fe_vectorizer, target_var, independent_var)\n"
   ]
  },
  {
   "cell_type": "markdown",
   "metadata": {},
   "source": [
    "# Hyperparameter Tuning\n",
    "\n",
    "With the engineered features set, the next step in improving the model pipeline involves tuning its hyperparameters. In particular focus will be the 'max_df' of the TFID vectorizer (representing the threshold at which to ignore words that commonly appear), 'ngram_range' of the TFID vectorizer (the range of the number of words to be stored in a single unit), and 'C' of the PAC algorithm (a regularization term). \n",
    "\n",
    "The optimal combination results in a model that is superior to previous iterations with regards to the holdout accuracy and cross validation accuracies."
   ]
  },
  {
   "cell_type": "code",
   "execution_count": 21,
   "metadata": {},
   "outputs": [
    {
     "name": "stdout",
     "output_type": "stream",
     "text": [
      "Fitting 5 folds for each of 18 candidates, totalling 90 fits\n"
     ]
    },
    {
     "name": "stderr",
     "output_type": "stream",
     "text": [
      "[Parallel(n_jobs=-1)]: Using backend LokyBackend with 4 concurrent workers.\n",
      "[Parallel(n_jobs=-1)]: Done  42 tasks      | elapsed: 65.5min\n",
      "[Parallel(n_jobs=-1)]: Done  90 out of  90 | elapsed: 103.3min finished\n"
     ]
    },
    {
     "name": "stdout",
     "output_type": "stream",
     "text": [
      "====================\n",
      "best params: Pipeline(memory=None,\n",
      "     steps=[('tfidf', TfidfVectorizer(analyzer='word', binary=False, decode_error='strict',\n",
      "        dtype=<class 'numpy.float64'>, encoding='utf-8', input='content',\n",
      "        lowercase=True, max_df=0.75, max_features=None, min_df=1,\n",
      "        ngram_range=(1, 2), norm='l2', preprocessor=None, smooth_idf=True...12345, shuffle=True, tol=None,\n",
      "              validation_fraction=0.1, verbose=0, warm_start=False))])\n",
      "best params: {'PAC__C': 2, 'tfidf__max_df': 0.75, 'tfidf__ngram_range': (1, 2)}\n",
      "best score: 0.9435199193141705\n",
      "====================\n"
     ]
    }
   ],
   "source": [
    "param = {\n",
    "    'tfidf__max_df': (0.5, 0.75),\n",
    "    'tfidf__ngram_range': [(1, 1), (1, 2), (1, 3)],\n",
    "    'PAC__C': [0.5, 1, 2]\n",
    "}\n",
    "\n",
    "vectorizer_object = ('tfidf', fe_vectorizer)\n",
    "model_object = ('PAC', model)\n",
    "\n",
    "tuned_model = tune_model(fe1_train_df, model_object, vectorizer_object,\n",
    "                         param, target_var, independent_var, gridSearch=True)\n"
   ]
  },
  {
   "cell_type": "code",
   "execution_count": 23,
   "metadata": {},
   "outputs": [
    {
     "name": "stdout",
     "output_type": "stream",
     "text": [
      "Accuracy: 0.941\n",
      "Mean Accuracy after CV: 0.944 +/- 0.006\n",
      "Best Accuracy after CV: 0.950\n"
     ]
    },
    {
     "data": {
      "image/png": "[encoded data removed]",
      "text/plain": [
       "<Figure size 432x288 with 2 Axes>"
      ]
     },
     "metadata": {
      "needs_background": "light"
     },
     "output_type": "display_data"
    }
   ],
   "source": [
    "run_full_iteration(fe1_train_df, tuned_model, vectorizer,\n",
    "                   target_var, independent_var, standalone=True)\n"
   ]
  },
  {
   "cell_type": "markdown",
   "metadata": {},
   "source": [
    "# Predict on Test Set\n",
    "\n",
    "This final section takes the final tuned model and runs a prediction on the clean/engineered test set. These predictions are then outputed into a .csv file."
   ]
  },
  {
   "cell_type": "code",
   "execution_count": 24,
   "metadata": {},
   "outputs": [
    {
     "name": "stdout",
     "output_type": "stream",
     "text": [
      "      ID label\n",
      "0  10498  FAKE\n",
      "1   2439  REAL\n",
      "2    864  REAL\n",
      "3   4128  REAL\n",
      "4    662  REAL\n"
     ]
    }
   ],
   "source": [
    "final_pred = pd.DataFrame(tuned_model.predict(fe1_test_df['combined']))\n",
    "final_clean_output = csv_conversion(fe1_test_df, final_pred,\n",
    "                                    id_field='ID', old_target_name=target_var,\n",
    "                                    filename=\"NLP_FAKE_NEWS_PREDICTIONS.csv\")\n"
   ]
  },
  {
   "cell_type": "code",
   "execution_count": 25,
   "metadata": {},
   "outputs": [
    {
     "data": {
      "image/png": "[encoded data removed]",
      "text/plain": [
       "<Figure size 720x360 with 1 Axes>"
      ]
     },
     "metadata": {
      "needs_background": "light"
     },
     "output_type": "display_data"
    }
   ],
   "source": [
    "plt.figure(figsize=(10,5)) \n",
    "sns.countplot(final_clean_output['label'])\n",
    "plt.show()"
   ]
  },
  {
   "cell_type": "code",
   "execution_count": null,
   "metadata": {
    "collapsed": true
   },
   "outputs": [],
   "source": []
  }
 ],
 "metadata": {
  "kernelspec": {
   "display_name": "Python 3",
   "language": "python",
   "name": "python3"
  },
  "language_info": {
   "codemirror_mode": {
    "name": "ipython",
    "version": 3
   },
   "file_extension": ".py",
   "mimetype": "text/x-python",
   "name": "python",
   "nbconvert_exporter": "python",
   "pygments_lexer": "ipython3",
   "version": "3.7.2"
  }
 },
 "nbformat": 4,
 "nbformat_minor": 2
}
